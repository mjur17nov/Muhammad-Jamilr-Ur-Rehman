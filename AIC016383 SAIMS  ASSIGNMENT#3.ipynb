{
 "cells": [
  {
   "cell_type": "markdown",
   "metadata": {},
   "source": [
    "# Q1:"
   ]
  },
  {
   "cell_type": "markdown",
   "metadata": {},
   "source": [
    "Think of at least three kinds of your favorite pizza. Store these pizza names in a list, and then use a for loop to print the name of each pizza."
   ]
  },
  {
   "cell_type": "code",
   "execution_count": 2,
   "metadata": {},
   "outputs": [
    {
     "name": "stdout",
     "output_type": "stream",
     "text": [
      "Fajita\n",
      "BBQ\n",
      "Cheese\n"
     ]
    }
   ],
   "source": [
    "pizza = ['Fajita','BBQ','Cheese']\n",
    "for i in pizza:\n",
    "    print(i)"
   ]
  },
  {
   "cell_type": "markdown",
   "metadata": {},
   "source": [
    "# Q2"
   ]
  },
  {
   "cell_type": "markdown",
   "metadata": {},
   "source": [
    "Start with your last question , Modify your for loop to print a sentence using the name of the pizza\n",
    "instead of printing just the name of the pizza. For each pizza you should\n",
    "have one line of output containing a simple statement like I like pepperoni\n",
    "pizza."
   ]
  },
  {
   "cell_type": "code",
   "execution_count": 3,
   "metadata": {},
   "outputs": [
    {
     "name": "stdout",
     "output_type": "stream",
     "text": [
      "I want to eat Fajita pizza.\n",
      "I want to eat BBQ pizza.\n",
      "I want to eat Cheese pizza.\n"
     ]
    }
   ],
   "source": [
    "for i in pizza:\n",
    "    print(f\"I want to eat {i} pizza.\")"
   ]
  },
  {
   "cell_type": "markdown",
   "metadata": {},
   "source": [
    "# Q3:"
   ]
  },
  {
   "cell_type": "markdown",
   "metadata": {},
   "source": [
    "Use a for loop to print the numbers from 1 to 20,\n",
    "inclusive."
   ]
  },
  {
   "cell_type": "code",
   "execution_count": 3,
   "metadata": {},
   "outputs": [
    {
     "name": "stdout",
     "output_type": "stream",
     "text": [
      "1\n",
      "2\n",
      "3\n",
      "4\n",
      "5\n",
      "6\n",
      "7\n",
      "8\n",
      "9\n",
      "10\n",
      "11\n",
      "12\n",
      "13\n",
      "14\n",
      "15\n",
      "16\n",
      "17\n",
      "18\n",
      "19\n",
      "20\n"
     ]
    }
   ],
   "source": [
    "for a in range(1,21):\n",
    "    print (a)"
   ]
  },
  {
   "cell_type": "markdown",
   "metadata": {},
   "source": [
    "# Q4:"
   ]
  },
  {
   "cell_type": "markdown",
   "metadata": {},
   "source": [
    "Use the third argument of the range() function to make a list\n",
    "of the odd numbers from 1 to 20. Use a for loop to print each number."
   ]
  },
  {
   "cell_type": "code",
   "execution_count": 8,
   "metadata": {},
   "outputs": [
    {
     "name": "stdout",
     "output_type": "stream",
     "text": [
      "1\n",
      "3\n",
      "5\n",
      "7\n",
      "9\n",
      "11\n",
      "13\n",
      "15\n",
      "17\n",
      "19\n"
     ]
    }
   ],
   "source": [
    "b = range(1,20,2)\n",
    "for i in b:\n",
    "    print(i)"
   ]
  },
  {
   "cell_type": "markdown",
   "metadata": {},
   "source": [
    "# Q5:"
   ]
  },
  {
   "cell_type": "markdown",
   "metadata": {},
   "source": [
    "Make a list of the multiples of 3 from 3 to 30. Use a for loop to\n",
    "print the numbers in your list."
   ]
  },
  {
   "cell_type": "code",
   "execution_count": 23,
   "metadata": {},
   "outputs": [
    {
     "name": "stdout",
     "output_type": "stream",
     "text": [
      "3\n",
      "6\n",
      "9\n",
      "12\n",
      "15\n",
      "18\n",
      "21\n",
      "24\n",
      "27\n",
      "30\n"
     ]
    }
   ],
   "source": [
    "for j in range(3,31,3):\n",
    "    print(j)"
   ]
  },
  {
   "cell_type": "markdown",
   "metadata": {},
   "source": [
    "# Q6:"
   ]
  },
  {
   "cell_type": "markdown",
   "metadata": {},
   "source": [
    "A number raised to the third power is called a cube. For example,\n",
    "the cube of 2 is written as 2**3 in Python. Make a list of the first 10 cubes (that\n",
    "is, the cube of each integer from 1 through 10), and use a for loop to print out\n",
    "the value of each cube"
   ]
  },
  {
   "cell_type": "code",
   "execution_count": 29,
   "metadata": {},
   "outputs": [
    {
     "data": {
      "text/plain": [
       "[1, 4, 9, 16, 25, 36, 49, 64, 81, 100]"
      ]
     },
     "execution_count": 29,
     "metadata": {},
     "output_type": "execute_result"
    }
   ],
   "source": [
    "cubes = [1,2,3,4,5,6,7,8,9,10]\n",
    "values = []\n",
    "for num in cubes:\n",
    "    values.append(num**2)\n",
    "values"
   ]
  },
  {
   "cell_type": "markdown",
   "metadata": {},
   "source": [
    "# Q7:"
   ]
  },
  {
   "cell_type": "markdown",
   "metadata": {},
   "source": [
    "###### Make a python program that conatains your nine favourite dishes in a list called foods.\n",
    "\n",
    "###### Print the message, The first three items in the list are:. \n",
    "###### Then use a slice to print the first three items from that program’s list.\n",
    "\n",
    "###### Print the message, Three items from the middle of the list are:\n",
    "###### Use a slice to print three items from the middle of the list.\n",
    "\n",
    "###### Print the message, The last three items in the list are:\n",
    "###### Use a slice to print the last three items in the list."
   ]
  },
  {
   "cell_type": "code",
   "execution_count": 30,
   "metadata": {},
   "outputs": [
    {
     "name": "stdout",
     "output_type": "stream",
     "text": [
      "The first three item in list are: ['Zinger', 'Pizza', 'Broast']\n"
     ]
    }
   ],
   "source": [
    "foods = ['Zinger', 'Pizza', 'Broast', 'Beef Biryani', 'Nehari', 'Aloo Gosht', 'Mutter Karahi', 'Chicken Makhni','BBQ']\n",
    "print(f\"The first three item in list are: {foods[0:3]}\")"
   ]
  },
  {
   "cell_type": "code",
   "execution_count": 31,
   "metadata": {},
   "outputs": [
    {
     "name": "stdout",
     "output_type": "stream",
     "text": [
      "The First item in list are ['Zinger', 'Pizza', 'Broast']\n"
     ]
    }
   ],
   "source": [
    "print(f\"The First item in list are {foods[0:3]}\")\n"
   ]
  },
  {
   "cell_type": "code",
   "execution_count": 32,
   "metadata": {},
   "outputs": [
    {
     "name": "stdout",
     "output_type": "stream",
     "text": [
      "Three item from the middle of he list are: ['Beef Biryani', 'Nehari', 'Aloo Gosht']\n"
     ]
    }
   ],
   "source": [
    "print(f\"Three item from the middle of he list are: {foods[3:6]}\")"
   ]
  },
  {
   "cell_type": "code",
   "execution_count": 35,
   "metadata": {},
   "outputs": [
    {
     "name": "stdout",
     "output_type": "stream",
     "text": [
      "The last three items in the list are: ['Mutter Karahi', 'Chicken Makhni', 'BBQ']\n"
     ]
    }
   ],
   "source": [
    "print(f\"The last three items in the list are: {foods[6:9]}\")"
   ]
  },
  {
   "cell_type": "markdown",
   "metadata": {},
   "source": [
    "# Q8:"
   ]
  },
  {
   "cell_type": "markdown",
   "metadata": {},
   "source": [
    "### Start with your program from your last Question8.\n",
    "###### Make a copy of the list of foods, and call it friend_foods.\n",
    "###### Then, do the following:\n",
    "######    Add a new dish to the original list.\n",
    "######    Add a different dish to the list friend_foodss.\n",
    "######    Prove that you have two separate lists. \n",
    "###### Print the message, My favorite pizzas are: and then use a for loop to print the first list. \n",
    "###### Print the message,\n",
    "###### My friend’s favorite foods are:, and then use a for loop to print the second list.\n",
    "    \n",
    "##### NOTE: Make sure each new dish is stored in the appropriate list."
   ]
  },
  {
   "cell_type": "code",
   "execution_count": 36,
   "metadata": {},
   "outputs": [],
   "source": [
    "friend_foods = ['Zinger', 'Pizza', 'Broast', 'Beef Biryani', 'Nehari', 'Aloo Gosht', 'Mutter Karahi', 'Chicken Makhni','BBQ']"
   ]
  },
  {
   "cell_type": "code",
   "execution_count": 37,
   "metadata": {},
   "outputs": [],
   "source": [
    "friend_foods.append('Malai Boti')"
   ]
  },
  {
   "cell_type": "code",
   "execution_count": 38,
   "metadata": {},
   "outputs": [],
   "source": [
    "friend_foods.append('Ice Cream')"
   ]
  },
  {
   "cell_type": "code",
   "execution_count": 39,
   "metadata": {},
   "outputs": [
    {
     "data": {
      "text/plain": [
       "['Zinger',\n",
       " 'Pizza',\n",
       " 'Broast',\n",
       " 'Beef Biryani',\n",
       " 'Nehari',\n",
       " 'Aloo Gosht',\n",
       " 'Mutter Karahi',\n",
       " 'Chicken Makhni',\n",
       " 'BBQ',\n",
       " 'Malai Boti',\n",
       " 'Ice Cream']"
      ]
     },
     "execution_count": 39,
     "metadata": {},
     "output_type": "execute_result"
    }
   ],
   "source": [
    "friend_foods"
   ]
  },
  {
   "cell_type": "code",
   "execution_count": 40,
   "metadata": {},
   "outputs": [
    {
     "data": {
      "text/plain": [
       "['Zinger',\n",
       " 'Pizza',\n",
       " 'Broast',\n",
       " 'Beef Biryani',\n",
       " 'Nehari',\n",
       " 'Aloo Gosht',\n",
       " 'Mutter Karahi',\n",
       " 'Chicken Makhni',\n",
       " 'BBQ']"
      ]
     },
     "execution_count": 40,
     "metadata": {},
     "output_type": "execute_result"
    }
   ],
   "source": [
    "foods"
   ]
  },
  {
   "cell_type": "code",
   "execution_count": 41,
   "metadata": {},
   "outputs": [
    {
     "name": "stdout",
     "output_type": "stream",
     "text": [
      "My favourite foods are: Zinger\n",
      "My favourite foods are: Pizza\n",
      "My favourite foods are: Broast\n",
      "My favourite foods are: Beef Biryani\n",
      "My favourite foods are: Nehari\n",
      "My favourite foods are: Aloo Gosht\n",
      "My favourite foods are: Mutter Karahi\n",
      "My favourite foods are: Chicken Makhni\n",
      "My favourite foods are: BBQ\n"
     ]
    }
   ],
   "source": [
    " for l in foods:\n",
    "    print(f\"My favourite foods are: {l}\")"
   ]
  },
  {
   "cell_type": "code",
   "execution_count": 43,
   "metadata": {},
   "outputs": [
    {
     "name": "stdout",
     "output_type": "stream",
     "text": [
      "My favourite foods are: Zinger\n",
      "My favourite foods are: Pizza\n",
      "My favourite foods are: Broast\n",
      "My favourite foods are: Beef Biryani\n",
      "My favourite foods are: Nehari\n",
      "My favourite foods are: Aloo Gosht\n",
      "My favourite foods are: Mutter Karahi\n",
      "My favourite foods are: Chicken Makhni\n",
      "My favourite foods are: BBQ\n",
      "My favourite foods are: Malai Boti\n",
      "My favourite foods are: Ice Cream\n"
     ]
    }
   ],
   "source": [
    "for c in friend_foods:\n",
    "    print(f\"My favourite foods are: {c}\")"
   ]
  },
  {
   "cell_type": "markdown",
   "metadata": {},
   "source": [
    "# Q9:"
   ]
  },
  {
   "cell_type": "markdown",
   "metadata": {},
   "source": [
    "Take a user input from console line.Store it in a variable called Alien_color.\n",
    "\n",
    "If the alien’s color is red, print a statement that the player just earned 5 points for shooting the alien.\n",
    "\n",
    "If the alien’s color isn’t green, print a statement that the player just earned 10 points.\n",
    "\n",
    "If the alien's color isn't red or green , print a statment :, Alien is no more....."
   ]
  },
  {
   "cell_type": "code",
   "execution_count": 46,
   "metadata": {},
   "outputs": [
    {
     "name": "stdout",
     "output_type": "stream",
     "text": [
      "Enter A Color : red\n",
      "you just earned 5 points for shooting the alien.\n"
     ]
    }
   ],
   "source": [
    "Alien_color = input (\"Enter A Color : \")\n",
    "if 'red' in Alien_color:\n",
    "    print(\"you just earned 5 points for shooting the alien.\")\n",
    "elif 'green' not in Alien_color:\n",
    "    print(\"you just earned 10 points for shooting the alien.\")\n",
    "else:\n",
    "    print(\"Alien is no more.\")"
   ]
  },
  {
   "cell_type": "markdown",
   "metadata": {},
   "source": [
    "# Q10:"
   ]
  },
  {
   "cell_type": "markdown",
   "metadata": {},
   "source": [
    "Write an if-elif-else chain that determines a person’s\n",
    "stage of life. Set a value for the variable age, and then:\n",
    "    \n",
    "•\t If the person is less than 2 years old, print a message that the person is a baby.\n",
    "\n",
    "•\t If the person is at least 2 years old but less than 4, print a message that the person is a toddler.\n",
    "\n",
    "•\t If the person is at least 4 years old but less than 13, print a message that the person is a kid.\n",
    "\n",
    "•\t If the person is at least 13 years old but less than 20, print a message that the person is a teenager.\n",
    "\n",
    "•\t If the person is at least 20 years old but less than 65, print a message that the person is an adult.\n",
    "\n",
    "•\t If the person is age 65 or older, print a message that the person is an elder."
   ]
  },
  {
   "cell_type": "code",
   "execution_count": 4,
   "metadata": {},
   "outputs": [
    {
     "name": "stdout",
     "output_type": "stream",
     "text": [
      "Enter your age: 70\n",
      "The personis an elder\n"
     ]
    }
   ],
   "source": [
    "age = int(input('Enter your age: '))\n",
    "if age < 2:\n",
    "    print('The person is baby')\n",
    "elif age < 4:\n",
    "    print(\"The person is toddler\")\n",
    "elif age < 13:\n",
    "    print(\"The person is kid\")\n",
    "elif age < 20:\n",
    "    print(\"The person is teenager\")\n",
    "elif age < 65:\n",
    "    print(\"The person is an adult\")\n",
    "else:\n",
    "    print(\"The personis an elder\")"
   ]
  },
  {
   "cell_type": "markdown",
   "metadata": {},
   "source": [
    "# Q11:"
   ]
  },
  {
   "cell_type": "markdown",
   "metadata": {},
   "source": [
    "Do the following to create a program that simulates how websites ensure that everyone has a unique username.\n",
    "\n",
    "•\t Make a list of five or more usernames called current_users.\n",
    "\n",
    "•\t Make another list of five usernames called new_users. \n",
    "Make sure one or two of the new usernames are also in the current_users list.\n",
    "\n",
    "•\t Loop through the new_users list to see if each new username has already been used. \n",
    "If it has, print a message that the person will need to enter a new username. \n",
    "If a username has not been used, print a message saying that the username is available.\n",
    "\n",
    "•\t Make sure your comparison is case insensitive. If 'John' has been used, 'JOHN' should not be accepted."
   ]
  },
  {
   "cell_type": "code",
   "execution_count": 6,
   "metadata": {},
   "outputs": [],
   "source": [
    "current_users = ['jamil','ali','usman','ahmed','saud']\n",
    "new_users = ['fazeel','zargham','usama','saad','saleem']"
   ]
  },
  {
   "cell_type": "code",
   "execution_count": 7,
   "metadata": {},
   "outputs": [
    {
     "name": "stdout",
     "output_type": "stream",
     "text": [
      "fazeel username is available\n",
      "zargham username is available\n",
      "usama username is available\n",
      "saad username is available\n",
      "saleem username is available\n"
     ]
    }
   ],
   "source": [
    "for name in new_users:\n",
    "    if name in current_users:\n",
    "        print(f'{name} username is not available, Please change your name')\n",
    "    else:\n",
    "        print(f'{name} username is available')"
   ]
  },
  {
   "cell_type": "markdown",
   "metadata": {},
   "source": [
    "# Q12:"
   ]
  },
  {
   "cell_type": "markdown",
   "metadata": {},
   "source": [
    "Use a dictionary to store information about a person you know.\n",
    "Store their first name, last name, age, and the city in which they live. \n",
    "You should have keys such as first_name, last_name, age, and city. \n",
    "Print each piece of information stored in your dictionary"
   ]
  },
  {
   "cell_type": "code",
   "execution_count": 2,
   "metadata": {},
   "outputs": [
    {
     "data": {
      "text/plain": [
       "{'first_name': 'Jamil', 'Last_name': 'Khan', 'age': 25, 'city': 'karachi'}"
      ]
     },
     "execution_count": 2,
     "metadata": {},
     "output_type": "execute_result"
    }
   ],
   "source": [
    "dictionary = {'first_name': 'Jamil', 'Last_name': 'Khan', 'age': 25, 'city': 'karachi'}\n",
    "dictionary\n"
   ]
  },
  {
   "cell_type": "markdown",
   "metadata": {},
   "source": [
    "# Q13:"
   ]
  },
  {
   "cell_type": "markdown",
   "metadata": {},
   "source": [
    "Starts with your last question 12 , loop through the dictionary’s keys and values.\n",
    "When you’re sure that your loop works, add five more Python terms to your\n",
    "dictionary . When you run your program again, these new words and meanings\n",
    "should automatically be included in the output."
   ]
  },
  {
   "cell_type": "code",
   "execution_count": 10,
   "metadata": {},
   "outputs": [
    {
     "name": "stdout",
     "output_type": "stream",
     "text": [
      "first_name Jamil\n",
      "Last_name Khan\n",
      "age 25\n",
      "city karachi\n"
     ]
    }
   ],
   "source": [
    "for x,y in dictionary.items():\n",
    "    print(x,y)"
   ]
  },
  {
   "cell_type": "markdown",
   "metadata": {},
   "source": [
    "# Q14:"
   ]
  },
  {
   "cell_type": "markdown",
   "metadata": {},
   "source": [
    "Make a dictionary containing three major rivers and the country\n",
    "each river runs through. One key-value pair might be 'nile': 'egypt'.\n",
    "    \n",
    "    \n",
    "•\t Use a loop to print a sentence about each river, such as The Nile runs\n",
    "through Egypt.\n",
    "\n",
    "NOTE: use upper case through keys and values."
   ]
  },
  {
   "cell_type": "code",
   "execution_count": 11,
   "metadata": {},
   "outputs": [
    {
     "name": "stdout",
     "output_type": "stream",
     "text": [
      "The  NILE runs through   EGYPT .\n",
      "The  AMAZON runs through   BRAZIL .\n",
      "The  YANGTZE runs through   CHINA .\n"
     ]
    }
   ],
   "source": [
    "rivers = {\"nile\": \"egypt\",\"amazon\": \"brazil\",\"yangtze\": \"china\"}\n",
    "for river, country in rivers.items():\n",
    "    print(f'The  {river.upper()} runs through   {country.upper()} .')"
   ]
  },
  {
   "cell_type": "markdown",
   "metadata": {},
   "source": [
    "# Q15:"
   ]
  },
  {
   "cell_type": "markdown",
   "metadata": {},
   "source": [
    "Make several dictionaries, where the name of each dictionary is the\n",
    "name of a pet. In each dictionary, include the kind of animal and the owner’s\n",
    "name. Store these dictionaries in a list called pets. Next, loop through your list\n",
    "and as you do print everything you know about each pet."
   ]
  },
  {
   "cell_type": "code",
   "execution_count": 13,
   "metadata": {},
   "outputs": [
    {
     "name": "stdout",
     "output_type": "stream",
     "text": [
      "kind: mammal\n",
      "owner_name: Ammar\n",
      "\n",
      "kind: mammal\n",
      "owner_name: Ahmad\n",
      "\n",
      "kind: bird\n",
      "owner_name: Faizan\n",
      "\n"
     ]
    }
   ],
   "source": [
    "Dog = {\"kind\": \"mammal\", \"owner_name\": \"Ahmad\"}\n",
    "\n",
    "Cat = {\"kind\": \"mammal\",\"owner_name\": \"Ammar\"}\n",
    "\n",
    "Parrot = {\"kind\": \"bird\",\"owner_name\": \"Faizan\"}\n",
    "\n",
    "Pets = [Cat, Dog, Parrot]\n",
    "\n",
    "for Pet in Pets:\n",
    "    for key, value in Pet.items():\n",
    "        print(key + \": \" + value)\n",
    "    print()"
   ]
  }
 ],
 "metadata": {
  "kernelspec": {
   "display_name": "Python 3",
   "language": "python",
   "name": "python3"
  }
 },
 "nbformat": 4,
 "nbformat_minor": 2
}
